{
  "nbformat": 4,
  "nbformat_minor": 0,
  "metadata": {
    "colab": {
      "provenance": [],
      "authorship_tag": "ABX9TyME3pYsierKzqguCeGyesvZ",
      "include_colab_link": true
    },
    "kernelspec": {
      "name": "python3",
      "display_name": "Python 3"
    },
    "language_info": {
      "name": "python"
    }
  },
  "cells": [
    {
      "cell_type": "markdown",
      "metadata": {
        "id": "view-in-github",
        "colab_type": "text"
      },
      "source": [
        "<a href=\"https://colab.research.google.com/github/Kamill99/Data_Science/blob/main/Uczenie_Maszynowe/metryki_regresja.ipynb\" target=\"_parent\"><img src=\"https://colab.research.google.com/assets/colab-badge.svg\" alt=\"Open In Colab\"/></a>"
      ]
    },
    {
      "cell_type": "code",
      "execution_count": 1,
      "metadata": {
        "id": "7EIfq0a_tYmF"
      },
      "outputs": [],
      "source": [
        "import numpy as np\n",
        "import pandas as pd\n",
        "import plotly.express as px\n",
        "import plotly.graph_objects as go"
      ]
    },
    {
      "cell_type": "code",
      "source": [
        "y_true = 100 + 20 * np.random.randn(50)\n",
        "y_true"
      ],
      "metadata": {
        "colab": {
          "base_uri": "https://localhost:8080/"
        },
        "id": "2pbzX2kGtoa_",
        "outputId": "a5f550a6-cf13-40c0-ae5c-66b20aa85fd7"
      },
      "execution_count": 2,
      "outputs": [
        {
          "output_type": "execute_result",
          "data": {
            "text/plain": [
              "array([112.13659035,  70.69545367, 116.3457279 , 102.58525769,\n",
              "       125.29648022, 150.12652268,  95.5042917 , 120.4359346 ,\n",
              "        81.70941941, 135.12497485, 110.72528127, 115.81549567,\n",
              "        75.99487557, 165.43693567, 109.57303925, 142.37819   ,\n",
              "       140.77454345, 111.04575508, 112.82534328,  83.28485541,\n",
              "       127.54630611,  83.73304294, 125.19199636,  90.33331183,\n",
              "       129.3740904 ,  98.40250721, 118.03063111, 121.84993093,\n",
              "        74.69998906, 138.77397463,  78.05439908, 118.93002368,\n",
              "       121.46621409, 119.80125148, 104.97372548,  94.78159404,\n",
              "       128.46838107, 117.87959788,  94.93008799, 113.49725158,\n",
              "       105.76644826, 121.95251849, 113.81668699,  83.59942926,\n",
              "        82.4582295 , 114.29598403,  88.63378023,  84.8183153 ,\n",
              "       101.91937002,  56.11220617])"
            ]
          },
          "metadata": {},
          "execution_count": 2
        }
      ]
    },
    {
      "cell_type": "code",
      "source": [
        "y_pred = y_true + 10 * np.random.randn(50)\n",
        "y_pred"
      ],
      "metadata": {
        "colab": {
          "base_uri": "https://localhost:8080/"
        },
        "id": "6rLrxAWlt07K",
        "outputId": "f885736b-f9e5-4ec1-c4ab-8a73d6af3d24"
      },
      "execution_count": 3,
      "outputs": [
        {
          "output_type": "execute_result",
          "data": {
            "text/plain": [
              "array([ 97.78346857,  61.29043953, 130.80537294, 107.77889731,\n",
              "       118.4353289 , 144.49601241,  81.95835467, 111.95404785,\n",
              "        96.73445067, 134.656396  , 121.96482791, 107.34105623,\n",
              "        63.74444733, 151.88701475,  93.13740602, 159.7746369 ,\n",
              "       137.47888897, 105.89014791,  94.85164272,  93.8691646 ,\n",
              "       139.31501591,  94.18774737, 128.39732493,  90.1555902 ,\n",
              "       127.22223764,  99.15446968, 105.16368533, 129.49443667,\n",
              "        82.64028816, 144.03930724,  82.37061642, 126.10991507,\n",
              "       116.32248082, 129.58717982, 120.68657206,  92.15469433,\n",
              "       129.11105847, 125.23712337,  92.63708547, 119.50461149,\n",
              "       116.11014512, 129.31241843, 111.44821295,  87.34903721,\n",
              "        90.38565693, 121.6640602 ,  88.38302133,  87.89592627,\n",
              "       105.25940574,  56.30097668])"
            ]
          },
          "metadata": {},
          "execution_count": 3
        }
      ]
    },
    {
      "cell_type": "code",
      "source": [
        "results = pd.DataFrame({'y_true': y_true, 'y_pred': y_pred})\n",
        "results.head()"
      ],
      "metadata": {
        "colab": {
          "base_uri": "https://localhost:8080/",
          "height": 206
        },
        "id": "GKknE_TPuGUa",
        "outputId": "e39d5cad-f177-4f3d-b851-a2eeaf898282"
      },
      "execution_count": 4,
      "outputs": [
        {
          "output_type": "execute_result",
          "data": {
            "text/plain": [
              "       y_true      y_pred\n",
              "0  112.136590   97.783469\n",
              "1   70.695454   61.290440\n",
              "2  116.345728  130.805373\n",
              "3  102.585258  107.778897\n",
              "4  125.296480  118.435329"
            ],
            "text/html": [
              "\n",
              "  <div id=\"df-d5f46fa5-bfe3-431f-8e78-7263e48004b9\">\n",
              "    <div class=\"colab-df-container\">\n",
              "      <div>\n",
              "<style scoped>\n",
              "    .dataframe tbody tr th:only-of-type {\n",
              "        vertical-align: middle;\n",
              "    }\n",
              "\n",
              "    .dataframe tbody tr th {\n",
              "        vertical-align: top;\n",
              "    }\n",
              "\n",
              "    .dataframe thead th {\n",
              "        text-align: right;\n",
              "    }\n",
              "</style>\n",
              "<table border=\"1\" class=\"dataframe\">\n",
              "  <thead>\n",
              "    <tr style=\"text-align: right;\">\n",
              "      <th></th>\n",
              "      <th>y_true</th>\n",
              "      <th>y_pred</th>\n",
              "    </tr>\n",
              "  </thead>\n",
              "  <tbody>\n",
              "    <tr>\n",
              "      <th>0</th>\n",
              "      <td>112.136590</td>\n",
              "      <td>97.783469</td>\n",
              "    </tr>\n",
              "    <tr>\n",
              "      <th>1</th>\n",
              "      <td>70.695454</td>\n",
              "      <td>61.290440</td>\n",
              "    </tr>\n",
              "    <tr>\n",
              "      <th>2</th>\n",
              "      <td>116.345728</td>\n",
              "      <td>130.805373</td>\n",
              "    </tr>\n",
              "    <tr>\n",
              "      <th>3</th>\n",
              "      <td>102.585258</td>\n",
              "      <td>107.778897</td>\n",
              "    </tr>\n",
              "    <tr>\n",
              "      <th>4</th>\n",
              "      <td>125.296480</td>\n",
              "      <td>118.435329</td>\n",
              "    </tr>\n",
              "  </tbody>\n",
              "</table>\n",
              "</div>\n",
              "      <button class=\"colab-df-convert\" onclick=\"convertToInteractive('df-d5f46fa5-bfe3-431f-8e78-7263e48004b9')\"\n",
              "              title=\"Convert this dataframe to an interactive table.\"\n",
              "              style=\"display:none;\">\n",
              "        \n",
              "  <svg xmlns=\"http://www.w3.org/2000/svg\" height=\"24px\"viewBox=\"0 0 24 24\"\n",
              "       width=\"24px\">\n",
              "    <path d=\"M0 0h24v24H0V0z\" fill=\"none\"/>\n",
              "    <path d=\"M18.56 5.44l.94 2.06.94-2.06 2.06-.94-2.06-.94-.94-2.06-.94 2.06-2.06.94zm-11 1L8.5 8.5l.94-2.06 2.06-.94-2.06-.94L8.5 2.5l-.94 2.06-2.06.94zm10 10l.94 2.06.94-2.06 2.06-.94-2.06-.94-.94-2.06-.94 2.06-2.06.94z\"/><path d=\"M17.41 7.96l-1.37-1.37c-.4-.4-.92-.59-1.43-.59-.52 0-1.04.2-1.43.59L10.3 9.45l-7.72 7.72c-.78.78-.78 2.05 0 2.83L4 21.41c.39.39.9.59 1.41.59.51 0 1.02-.2 1.41-.59l7.78-7.78 2.81-2.81c.8-.78.8-2.07 0-2.86zM5.41 20L4 18.59l7.72-7.72 1.47 1.35L5.41 20z\"/>\n",
              "  </svg>\n",
              "      </button>\n",
              "      \n",
              "  <style>\n",
              "    .colab-df-container {\n",
              "      display:flex;\n",
              "      flex-wrap:wrap;\n",
              "      gap: 12px;\n",
              "    }\n",
              "\n",
              "    .colab-df-convert {\n",
              "      background-color: #E8F0FE;\n",
              "      border: none;\n",
              "      border-radius: 50%;\n",
              "      cursor: pointer;\n",
              "      display: none;\n",
              "      fill: #1967D2;\n",
              "      height: 32px;\n",
              "      padding: 0 0 0 0;\n",
              "      width: 32px;\n",
              "    }\n",
              "\n",
              "    .colab-df-convert:hover {\n",
              "      background-color: #E2EBFA;\n",
              "      box-shadow: 0px 1px 2px rgba(60, 64, 67, 0.3), 0px 1px 3px 1px rgba(60, 64, 67, 0.15);\n",
              "      fill: #174EA6;\n",
              "    }\n",
              "\n",
              "    [theme=dark] .colab-df-convert {\n",
              "      background-color: #3B4455;\n",
              "      fill: #D2E3FC;\n",
              "    }\n",
              "\n",
              "    [theme=dark] .colab-df-convert:hover {\n",
              "      background-color: #434B5C;\n",
              "      box-shadow: 0px 1px 3px 1px rgba(0, 0, 0, 0.15);\n",
              "      filter: drop-shadow(0px 1px 2px rgba(0, 0, 0, 0.3));\n",
              "      fill: #FFFFFF;\n",
              "    }\n",
              "  </style>\n",
              "\n",
              "      <script>\n",
              "        const buttonEl =\n",
              "          document.querySelector('#df-d5f46fa5-bfe3-431f-8e78-7263e48004b9 button.colab-df-convert');\n",
              "        buttonEl.style.display =\n",
              "          google.colab.kernel.accessAllowed ? 'block' : 'none';\n",
              "\n",
              "        async function convertToInteractive(key) {\n",
              "          const element = document.querySelector('#df-d5f46fa5-bfe3-431f-8e78-7263e48004b9');\n",
              "          const dataTable =\n",
              "            await google.colab.kernel.invokeFunction('convertToInteractive',\n",
              "                                                     [key], {});\n",
              "          if (!dataTable) return;\n",
              "\n",
              "          const docLinkHtml = 'Like what you see? Visit the ' +\n",
              "            '<a target=\"_blank\" href=https://colab.research.google.com/notebooks/data_table.ipynb>data table notebook</a>'\n",
              "            + ' to learn more about interactive tables.';\n",
              "          element.innerHTML = '';\n",
              "          dataTable['output_type'] = 'display_data';\n",
              "          await google.colab.output.renderOutput(dataTable, element);\n",
              "          const docLink = document.createElement('div');\n",
              "          docLink.innerHTML = docLinkHtml;\n",
              "          element.appendChild(docLink);\n",
              "        }\n",
              "      </script>\n",
              "    </div>\n",
              "  </div>\n",
              "  "
            ]
          },
          "metadata": {},
          "execution_count": 4
        }
      ]
    },
    {
      "cell_type": "code",
      "source": [
        "results['error'] = results['y_true'] - results['y_pred']\n",
        "results.head()"
      ],
      "metadata": {
        "colab": {
          "base_uri": "https://localhost:8080/",
          "height": 206
        },
        "id": "vewny7RDuOeD",
        "outputId": "6c65f31c-3d47-452c-d2d5-974d737753c6"
      },
      "execution_count": 5,
      "outputs": [
        {
          "output_type": "execute_result",
          "data": {
            "text/plain": [
              "       y_true      y_pred      error\n",
              "0  112.136590   97.783469  14.353122\n",
              "1   70.695454   61.290440   9.405014\n",
              "2  116.345728  130.805373 -14.459645\n",
              "3  102.585258  107.778897  -5.193640\n",
              "4  125.296480  118.435329   6.861151"
            ],
            "text/html": [
              "\n",
              "  <div id=\"df-d0454284-ce07-407b-914c-fb9a53ede146\">\n",
              "    <div class=\"colab-df-container\">\n",
              "      <div>\n",
              "<style scoped>\n",
              "    .dataframe tbody tr th:only-of-type {\n",
              "        vertical-align: middle;\n",
              "    }\n",
              "\n",
              "    .dataframe tbody tr th {\n",
              "        vertical-align: top;\n",
              "    }\n",
              "\n",
              "    .dataframe thead th {\n",
              "        text-align: right;\n",
              "    }\n",
              "</style>\n",
              "<table border=\"1\" class=\"dataframe\">\n",
              "  <thead>\n",
              "    <tr style=\"text-align: right;\">\n",
              "      <th></th>\n",
              "      <th>y_true</th>\n",
              "      <th>y_pred</th>\n",
              "      <th>error</th>\n",
              "    </tr>\n",
              "  </thead>\n",
              "  <tbody>\n",
              "    <tr>\n",
              "      <th>0</th>\n",
              "      <td>112.136590</td>\n",
              "      <td>97.783469</td>\n",
              "      <td>14.353122</td>\n",
              "    </tr>\n",
              "    <tr>\n",
              "      <th>1</th>\n",
              "      <td>70.695454</td>\n",
              "      <td>61.290440</td>\n",
              "      <td>9.405014</td>\n",
              "    </tr>\n",
              "    <tr>\n",
              "      <th>2</th>\n",
              "      <td>116.345728</td>\n",
              "      <td>130.805373</td>\n",
              "      <td>-14.459645</td>\n",
              "    </tr>\n",
              "    <tr>\n",
              "      <th>3</th>\n",
              "      <td>102.585258</td>\n",
              "      <td>107.778897</td>\n",
              "      <td>-5.193640</td>\n",
              "    </tr>\n",
              "    <tr>\n",
              "      <th>4</th>\n",
              "      <td>125.296480</td>\n",
              "      <td>118.435329</td>\n",
              "      <td>6.861151</td>\n",
              "    </tr>\n",
              "  </tbody>\n",
              "</table>\n",
              "</div>\n",
              "      <button class=\"colab-df-convert\" onclick=\"convertToInteractive('df-d0454284-ce07-407b-914c-fb9a53ede146')\"\n",
              "              title=\"Convert this dataframe to an interactive table.\"\n",
              "              style=\"display:none;\">\n",
              "        \n",
              "  <svg xmlns=\"http://www.w3.org/2000/svg\" height=\"24px\"viewBox=\"0 0 24 24\"\n",
              "       width=\"24px\">\n",
              "    <path d=\"M0 0h24v24H0V0z\" fill=\"none\"/>\n",
              "    <path d=\"M18.56 5.44l.94 2.06.94-2.06 2.06-.94-2.06-.94-.94-2.06-.94 2.06-2.06.94zm-11 1L8.5 8.5l.94-2.06 2.06-.94-2.06-.94L8.5 2.5l-.94 2.06-2.06.94zm10 10l.94 2.06.94-2.06 2.06-.94-2.06-.94-.94-2.06-.94 2.06-2.06.94z\"/><path d=\"M17.41 7.96l-1.37-1.37c-.4-.4-.92-.59-1.43-.59-.52 0-1.04.2-1.43.59L10.3 9.45l-7.72 7.72c-.78.78-.78 2.05 0 2.83L4 21.41c.39.39.9.59 1.41.59.51 0 1.02-.2 1.41-.59l7.78-7.78 2.81-2.81c.8-.78.8-2.07 0-2.86zM5.41 20L4 18.59l7.72-7.72 1.47 1.35L5.41 20z\"/>\n",
              "  </svg>\n",
              "      </button>\n",
              "      \n",
              "  <style>\n",
              "    .colab-df-container {\n",
              "      display:flex;\n",
              "      flex-wrap:wrap;\n",
              "      gap: 12px;\n",
              "    }\n",
              "\n",
              "    .colab-df-convert {\n",
              "      background-color: #E8F0FE;\n",
              "      border: none;\n",
              "      border-radius: 50%;\n",
              "      cursor: pointer;\n",
              "      display: none;\n",
              "      fill: #1967D2;\n",
              "      height: 32px;\n",
              "      padding: 0 0 0 0;\n",
              "      width: 32px;\n",
              "    }\n",
              "\n",
              "    .colab-df-convert:hover {\n",
              "      background-color: #E2EBFA;\n",
              "      box-shadow: 0px 1px 2px rgba(60, 64, 67, 0.3), 0px 1px 3px 1px rgba(60, 64, 67, 0.15);\n",
              "      fill: #174EA6;\n",
              "    }\n",
              "\n",
              "    [theme=dark] .colab-df-convert {\n",
              "      background-color: #3B4455;\n",
              "      fill: #D2E3FC;\n",
              "    }\n",
              "\n",
              "    [theme=dark] .colab-df-convert:hover {\n",
              "      background-color: #434B5C;\n",
              "      box-shadow: 0px 1px 3px 1px rgba(0, 0, 0, 0.15);\n",
              "      filter: drop-shadow(0px 1px 2px rgba(0, 0, 0, 0.3));\n",
              "      fill: #FFFFFF;\n",
              "    }\n",
              "  </style>\n",
              "\n",
              "      <script>\n",
              "        const buttonEl =\n",
              "          document.querySelector('#df-d0454284-ce07-407b-914c-fb9a53ede146 button.colab-df-convert');\n",
              "        buttonEl.style.display =\n",
              "          google.colab.kernel.accessAllowed ? 'block' : 'none';\n",
              "\n",
              "        async function convertToInteractive(key) {\n",
              "          const element = document.querySelector('#df-d0454284-ce07-407b-914c-fb9a53ede146');\n",
              "          const dataTable =\n",
              "            await google.colab.kernel.invokeFunction('convertToInteractive',\n",
              "                                                     [key], {});\n",
              "          if (!dataTable) return;\n",
              "\n",
              "          const docLinkHtml = 'Like what you see? Visit the ' +\n",
              "            '<a target=\"_blank\" href=https://colab.research.google.com/notebooks/data_table.ipynb>data table notebook</a>'\n",
              "            + ' to learn more about interactive tables.';\n",
              "          element.innerHTML = '';\n",
              "          dataTable['output_type'] = 'display_data';\n",
              "          await google.colab.output.renderOutput(dataTable, element);\n",
              "          const docLink = document.createElement('div');\n",
              "          docLink.innerHTML = docLinkHtml;\n",
              "          element.appendChild(docLink);\n",
              "        }\n",
              "      </script>\n",
              "    </div>\n",
              "  </div>\n",
              "  "
            ]
          },
          "metadata": {},
          "execution_count": 5
        }
      ]
    },
    {
      "cell_type": "markdown",
      "source": [
        "**Interpretacja graficzna**"
      ],
      "metadata": {
        "id": "oiVm800ouxq-"
      }
    },
    {
      "cell_type": "code",
      "source": [
        "def plot_regression_results(y_true, y_pred): \n",
        "    results = pd.DataFrame({'y_true': y_true, 'y_pred': y_pred})\n",
        "    min = results[['y_true', 'y_pred']].min().min()\n",
        "    max = results[['y_true', 'y_pred']].max().max()\n",
        "\n",
        "    fig = go.Figure(data=[go.Scatter(x=results['y_true'], y=results['y_pred'], mode='markers'),\n",
        "                    go.Scatter(x=[min, max], y=[min, max])],\n",
        "                    layout=go.Layout(showlegend=False, width=800, height=500,\n",
        "                                     xaxis_title='y_true', \n",
        "                                     yaxis_title='y_pred',\n",
        "                                     title='Regression results'))\n",
        "    fig.show()\n",
        "plot_regression_results(y_true, y_pred)"
      ],
      "metadata": {
        "colab": {
          "base_uri": "https://localhost:8080/",
          "height": 517
        },
        "id": "SMcz68P4uhKv",
        "outputId": "0df9874a-cdd6-40df-e943-c485a26f7b6c"
      },
      "execution_count": 6,
      "outputs": [
        {
          "output_type": "display_data",
          "data": {
            "text/html": [
              "<html>\n",
              "<head><meta charset=\"utf-8\" /></head>\n",
              "<body>\n",
              "    <div>            <script src=\"https://cdnjs.cloudflare.com/ajax/libs/mathjax/2.7.5/MathJax.js?config=TeX-AMS-MML_SVG\"></script><script type=\"text/javascript\">if (window.MathJax && window.MathJax.Hub && window.MathJax.Hub.Config) {window.MathJax.Hub.Config({SVG: {font: \"STIX-Web\"}});}</script>                <script type=\"text/javascript\">window.PlotlyConfig = {MathJaxConfig: 'local'};</script>\n",
              "        <script src=\"https://cdn.plot.ly/plotly-2.18.2.min.js\"></script>                <div id=\"b0a57366-b3ce-43e5-80aa-b1e37eb289b6\" class=\"plotly-graph-div\" style=\"height:500px; width:800px;\"></div>            <script type=\"text/javascript\">                                    window.PLOTLYENV=window.PLOTLYENV || {};                                    if (document.getElementById(\"b0a57366-b3ce-43e5-80aa-b1e37eb289b6\")) {                    Plotly.newPlot(                        \"b0a57366-b3ce-43e5-80aa-b1e37eb289b6\",                        [{\"mode\":\"markers\",\"x\":[112.13659035092178,70.695453668278,116.34572789903419,102.58525768641653,125.29648021511606,150.126522683239,95.50429169685887,120.43593460085891,81.70941941355942,135.12497485044764,110.7252812705992,115.81549566951215,75.99487557495894,165.436935671661,109.5730392503097,142.37819000453004,140.77454344759474,111.04575507657276,112.82534328374784,83.28485540818225,127.54630610852395,83.73304294421939,125.19199635925435,90.33331183328406,129.37409040188643,98.40250721063582,118.03063111047089,121.84993092608332,74.69998906089396,138.7739746317959,78.05439908010659,118.9300236761152,121.46621409298663,119.80125147969439,104.97372547655714,94.78159404301992,128.4683810737632,117.87959787997134,94.93008798945705,113.49725158159741,105.76644825983657,121.95251849268851,113.81668698844717,83.59942925874125,82.4582295008316,114.29598402697071,88.63378023083918,84.81831529939711,101.91937001643005,56.112206167468834],\"y\":[97.78346856732105,61.290439527583096,130.80537293697563,107.7788973111666,118.43532889589405,144.49601240615638,81.958354668441,111.9540478544883,96.73445066632455,134.65639600027885,121.96482791250378,107.34105623074197,63.74444732848871,151.88701474852763,93.13740602082663,159.77463689898812,137.4788889735544,105.89014791418754,94.85164272367555,93.8691646042239,139.3150159094587,94.18774737312619,128.39732493226774,90.1555901997233,127.2222376380593,99.15446968254548,105.16368532592467,129.49443666944333,82.64028815801481,144.03930724289273,82.37061642373006,126.1099150671937,116.32248082288305,129.5871798200202,120.68657205719927,92.15469432806702,129.1110584700305,125.23712337220525,92.63708547046564,119.50461148802152,116.11014511842518,129.3124184341217,111.44821295389602,87.34903721225454,90.38565693192388,121.66406020185525,88.38302133382537,87.89592626861477,105.25940574466067,56.300976677987364],\"type\":\"scatter\"},{\"x\":[56.112206167468834,165.436935671661],\"y\":[56.112206167468834,165.436935671661],\"type\":\"scatter\"}],                        {\"height\":500,\"showlegend\":false,\"title\":{\"text\":\"Regression results\"},\"width\":800,\"xaxis\":{\"title\":{\"text\":\"y_true\"}},\"yaxis\":{\"title\":{\"text\":\"y_pred\"}},\"template\":{\"data\":{\"histogram2dcontour\":[{\"type\":\"histogram2dcontour\",\"colorbar\":{\"outlinewidth\":0,\"ticks\":\"\"},\"colorscale\":[[0.0,\"#0d0887\"],[0.1111111111111111,\"#46039f\"],[0.2222222222222222,\"#7201a8\"],[0.3333333333333333,\"#9c179e\"],[0.4444444444444444,\"#bd3786\"],[0.5555555555555556,\"#d8576b\"],[0.6666666666666666,\"#ed7953\"],[0.7777777777777778,\"#fb9f3a\"],[0.8888888888888888,\"#fdca26\"],[1.0,\"#f0f921\"]]}],\"choropleth\":[{\"type\":\"choropleth\",\"colorbar\":{\"outlinewidth\":0,\"ticks\":\"\"}}],\"histogram2d\":[{\"type\":\"histogram2d\",\"colorbar\":{\"outlinewidth\":0,\"ticks\":\"\"},\"colorscale\":[[0.0,\"#0d0887\"],[0.1111111111111111,\"#46039f\"],[0.2222222222222222,\"#7201a8\"],[0.3333333333333333,\"#9c179e\"],[0.4444444444444444,\"#bd3786\"],[0.5555555555555556,\"#d8576b\"],[0.6666666666666666,\"#ed7953\"],[0.7777777777777778,\"#fb9f3a\"],[0.8888888888888888,\"#fdca26\"],[1.0,\"#f0f921\"]]}],\"heatmap\":[{\"type\":\"heatmap\",\"colorbar\":{\"outlinewidth\":0,\"ticks\":\"\"},\"colorscale\":[[0.0,\"#0d0887\"],[0.1111111111111111,\"#46039f\"],[0.2222222222222222,\"#7201a8\"],[0.3333333333333333,\"#9c179e\"],[0.4444444444444444,\"#bd3786\"],[0.5555555555555556,\"#d8576b\"],[0.6666666666666666,\"#ed7953\"],[0.7777777777777778,\"#fb9f3a\"],[0.8888888888888888,\"#fdca26\"],[1.0,\"#f0f921\"]]}],\"heatmapgl\":[{\"type\":\"heatmapgl\",\"colorbar\":{\"outlinewidth\":0,\"ticks\":\"\"},\"colorscale\":[[0.0,\"#0d0887\"],[0.1111111111111111,\"#46039f\"],[0.2222222222222222,\"#7201a8\"],[0.3333333333333333,\"#9c179e\"],[0.4444444444444444,\"#bd3786\"],[0.5555555555555556,\"#d8576b\"],[0.6666666666666666,\"#ed7953\"],[0.7777777777777778,\"#fb9f3a\"],[0.8888888888888888,\"#fdca26\"],[1.0,\"#f0f921\"]]}],\"contourcarpet\":[{\"type\":\"contourcarpet\",\"colorbar\":{\"outlinewidth\":0,\"ticks\":\"\"}}],\"contour\":[{\"type\":\"contour\",\"colorbar\":{\"outlinewidth\":0,\"ticks\":\"\"},\"colorscale\":[[0.0,\"#0d0887\"],[0.1111111111111111,\"#46039f\"],[0.2222222222222222,\"#7201a8\"],[0.3333333333333333,\"#9c179e\"],[0.4444444444444444,\"#bd3786\"],[0.5555555555555556,\"#d8576b\"],[0.6666666666666666,\"#ed7953\"],[0.7777777777777778,\"#fb9f3a\"],[0.8888888888888888,\"#fdca26\"],[1.0,\"#f0f921\"]]}],\"surface\":[{\"type\":\"surface\",\"colorbar\":{\"outlinewidth\":0,\"ticks\":\"\"},\"colorscale\":[[0.0,\"#0d0887\"],[0.1111111111111111,\"#46039f\"],[0.2222222222222222,\"#7201a8\"],[0.3333333333333333,\"#9c179e\"],[0.4444444444444444,\"#bd3786\"],[0.5555555555555556,\"#d8576b\"],[0.6666666666666666,\"#ed7953\"],[0.7777777777777778,\"#fb9f3a\"],[0.8888888888888888,\"#fdca26\"],[1.0,\"#f0f921\"]]}],\"mesh3d\":[{\"type\":\"mesh3d\",\"colorbar\":{\"outlinewidth\":0,\"ticks\":\"\"}}],\"scatter\":[{\"fillpattern\":{\"fillmode\":\"overlay\",\"size\":10,\"solidity\":0.2},\"type\":\"scatter\"}],\"parcoords\":[{\"type\":\"parcoords\",\"line\":{\"colorbar\":{\"outlinewidth\":0,\"ticks\":\"\"}}}],\"scatterpolargl\":[{\"type\":\"scatterpolargl\",\"marker\":{\"colorbar\":{\"outlinewidth\":0,\"ticks\":\"\"}}}],\"bar\":[{\"error_x\":{\"color\":\"#2a3f5f\"},\"error_y\":{\"color\":\"#2a3f5f\"},\"marker\":{\"line\":{\"color\":\"#E5ECF6\",\"width\":0.5},\"pattern\":{\"fillmode\":\"overlay\",\"size\":10,\"solidity\":0.2}},\"type\":\"bar\"}],\"scattergeo\":[{\"type\":\"scattergeo\",\"marker\":{\"colorbar\":{\"outlinewidth\":0,\"ticks\":\"\"}}}],\"scatterpolar\":[{\"type\":\"scatterpolar\",\"marker\":{\"colorbar\":{\"outlinewidth\":0,\"ticks\":\"\"}}}],\"histogram\":[{\"marker\":{\"pattern\":{\"fillmode\":\"overlay\",\"size\":10,\"solidity\":0.2}},\"type\":\"histogram\"}],\"scattergl\":[{\"type\":\"scattergl\",\"marker\":{\"colorbar\":{\"outlinewidth\":0,\"ticks\":\"\"}}}],\"scatter3d\":[{\"type\":\"scatter3d\",\"line\":{\"colorbar\":{\"outlinewidth\":0,\"ticks\":\"\"}},\"marker\":{\"colorbar\":{\"outlinewidth\":0,\"ticks\":\"\"}}}],\"scattermapbox\":[{\"type\":\"scattermapbox\",\"marker\":{\"colorbar\":{\"outlinewidth\":0,\"ticks\":\"\"}}}],\"scatterternary\":[{\"type\":\"scatterternary\",\"marker\":{\"colorbar\":{\"outlinewidth\":0,\"ticks\":\"\"}}}],\"scattercarpet\":[{\"type\":\"scattercarpet\",\"marker\":{\"colorbar\":{\"outlinewidth\":0,\"ticks\":\"\"}}}],\"carpet\":[{\"aaxis\":{\"endlinecolor\":\"#2a3f5f\",\"gridcolor\":\"white\",\"linecolor\":\"white\",\"minorgridcolor\":\"white\",\"startlinecolor\":\"#2a3f5f\"},\"baxis\":{\"endlinecolor\":\"#2a3f5f\",\"gridcolor\":\"white\",\"linecolor\":\"white\",\"minorgridcolor\":\"white\",\"startlinecolor\":\"#2a3f5f\"},\"type\":\"carpet\"}],\"table\":[{\"cells\":{\"fill\":{\"color\":\"#EBF0F8\"},\"line\":{\"color\":\"white\"}},\"header\":{\"fill\":{\"color\":\"#C8D4E3\"},\"line\":{\"color\":\"white\"}},\"type\":\"table\"}],\"barpolar\":[{\"marker\":{\"line\":{\"color\":\"#E5ECF6\",\"width\":0.5},\"pattern\":{\"fillmode\":\"overlay\",\"size\":10,\"solidity\":0.2}},\"type\":\"barpolar\"}],\"pie\":[{\"automargin\":true,\"type\":\"pie\"}]},\"layout\":{\"autotypenumbers\":\"strict\",\"colorway\":[\"#636efa\",\"#EF553B\",\"#00cc96\",\"#ab63fa\",\"#FFA15A\",\"#19d3f3\",\"#FF6692\",\"#B6E880\",\"#FF97FF\",\"#FECB52\"],\"font\":{\"color\":\"#2a3f5f\"},\"hovermode\":\"closest\",\"hoverlabel\":{\"align\":\"left\"},\"paper_bgcolor\":\"white\",\"plot_bgcolor\":\"#E5ECF6\",\"polar\":{\"bgcolor\":\"#E5ECF6\",\"angularaxis\":{\"gridcolor\":\"white\",\"linecolor\":\"white\",\"ticks\":\"\"},\"radialaxis\":{\"gridcolor\":\"white\",\"linecolor\":\"white\",\"ticks\":\"\"}},\"ternary\":{\"bgcolor\":\"#E5ECF6\",\"aaxis\":{\"gridcolor\":\"white\",\"linecolor\":\"white\",\"ticks\":\"\"},\"baxis\":{\"gridcolor\":\"white\",\"linecolor\":\"white\",\"ticks\":\"\"},\"caxis\":{\"gridcolor\":\"white\",\"linecolor\":\"white\",\"ticks\":\"\"}},\"coloraxis\":{\"colorbar\":{\"outlinewidth\":0,\"ticks\":\"\"}},\"colorscale\":{\"sequential\":[[0.0,\"#0d0887\"],[0.1111111111111111,\"#46039f\"],[0.2222222222222222,\"#7201a8\"],[0.3333333333333333,\"#9c179e\"],[0.4444444444444444,\"#bd3786\"],[0.5555555555555556,\"#d8576b\"],[0.6666666666666666,\"#ed7953\"],[0.7777777777777778,\"#fb9f3a\"],[0.8888888888888888,\"#fdca26\"],[1.0,\"#f0f921\"]],\"sequentialminus\":[[0.0,\"#0d0887\"],[0.1111111111111111,\"#46039f\"],[0.2222222222222222,\"#7201a8\"],[0.3333333333333333,\"#9c179e\"],[0.4444444444444444,\"#bd3786\"],[0.5555555555555556,\"#d8576b\"],[0.6666666666666666,\"#ed7953\"],[0.7777777777777778,\"#fb9f3a\"],[0.8888888888888888,\"#fdca26\"],[1.0,\"#f0f921\"]],\"diverging\":[[0,\"#8e0152\"],[0.1,\"#c51b7d\"],[0.2,\"#de77ae\"],[0.3,\"#f1b6da\"],[0.4,\"#fde0ef\"],[0.5,\"#f7f7f7\"],[0.6,\"#e6f5d0\"],[0.7,\"#b8e186\"],[0.8,\"#7fbc41\"],[0.9,\"#4d9221\"],[1,\"#276419\"]]},\"xaxis\":{\"gridcolor\":\"white\",\"linecolor\":\"white\",\"ticks\":\"\",\"title\":{\"standoff\":15},\"zerolinecolor\":\"white\",\"automargin\":true,\"zerolinewidth\":2},\"yaxis\":{\"gridcolor\":\"white\",\"linecolor\":\"white\",\"ticks\":\"\",\"title\":{\"standoff\":15},\"zerolinecolor\":\"white\",\"automargin\":true,\"zerolinewidth\":2},\"scene\":{\"xaxis\":{\"backgroundcolor\":\"#E5ECF6\",\"gridcolor\":\"white\",\"linecolor\":\"white\",\"showbackground\":true,\"ticks\":\"\",\"zerolinecolor\":\"white\",\"gridwidth\":2},\"yaxis\":{\"backgroundcolor\":\"#E5ECF6\",\"gridcolor\":\"white\",\"linecolor\":\"white\",\"showbackground\":true,\"ticks\":\"\",\"zerolinecolor\":\"white\",\"gridwidth\":2},\"zaxis\":{\"backgroundcolor\":\"#E5ECF6\",\"gridcolor\":\"white\",\"linecolor\":\"white\",\"showbackground\":true,\"ticks\":\"\",\"zerolinecolor\":\"white\",\"gridwidth\":2}},\"shapedefaults\":{\"line\":{\"color\":\"#2a3f5f\"}},\"annotationdefaults\":{\"arrowcolor\":\"#2a3f5f\",\"arrowhead\":0,\"arrowwidth\":1},\"geo\":{\"bgcolor\":\"white\",\"landcolor\":\"#E5ECF6\",\"subunitcolor\":\"white\",\"showland\":true,\"showlakes\":true,\"lakecolor\":\"white\"},\"title\":{\"x\":0.05},\"mapbox\":{\"style\":\"light\"}}}},                        {\"responsive\": true}                    ).then(function(){\n",
              "                            \n",
              "var gd = document.getElementById('b0a57366-b3ce-43e5-80aa-b1e37eb289b6');\n",
              "var x = new MutationObserver(function (mutations, observer) {{\n",
              "        var display = window.getComputedStyle(gd).display;\n",
              "        if (!display || display === 'none') {{\n",
              "            console.log([gd, 'removed!']);\n",
              "            Plotly.purge(gd);\n",
              "            observer.disconnect();\n",
              "        }}\n",
              "}});\n",
              "\n",
              "// Listen for the removal of the full notebook cells\n",
              "var notebookContainer = gd.closest('#notebook-container');\n",
              "if (notebookContainer) {{\n",
              "    x.observe(notebookContainer, {childList: true});\n",
              "}}\n",
              "\n",
              "// Listen for the clearing of the current output cell\n",
              "var outputEl = gd.closest('.output');\n",
              "if (outputEl) {{\n",
              "    x.observe(outputEl, {childList: true});\n",
              "}}\n",
              "\n",
              "                        })                };                            </script>        </div>\n",
              "</body>\n",
              "</html>"
            ]
          },
          "metadata": {}
        }
      ]
    },
    {
      "cell_type": "code",
      "source": [
        "y_true = 100 + 20 * np.random.randn(1000)\n",
        "y_pred = y_true + 10 * np.random.randn(1000)\n",
        "results = pd.DataFrame({'y_true': y_true, 'y_pred': y_pred})\n",
        "results['error'] = results['y_true'] - results['y_pred']\n",
        "\n",
        "px.histogram(results, x='error', nbins=50, width=800)"
      ],
      "metadata": {
        "colab": {
          "base_uri": "https://localhost:8080/",
          "height": 542
        },
        "id": "1bdZAAVbu1Wq",
        "outputId": "a65d36a2-284a-4006-cde3-5394fb8ec248"
      },
      "execution_count": 7,
      "outputs": [
        {
          "output_type": "display_data",
          "data": {
            "text/html": [
              "<html>\n",
              "<head><meta charset=\"utf-8\" /></head>\n",
              "<body>\n",
              "    <div>            <script src=\"https://cdnjs.cloudflare.com/ajax/libs/mathjax/2.7.5/MathJax.js?config=TeX-AMS-MML_SVG\"></script><script type=\"text/javascript\">if (window.MathJax && window.MathJax.Hub && window.MathJax.Hub.Config) {window.MathJax.Hub.Config({SVG: {font: \"STIX-Web\"}});}</script>                <script type=\"text/javascript\">window.PlotlyConfig = {MathJaxConfig: 'local'};</script>\n",
              "        <script src=\"https://cdn.plot.ly/plotly-2.18.2.min.js\"></script>                <div id=\"bad3f047-f76d-43e0-9e01-6c0e6e398c78\" class=\"plotly-graph-div\" style=\"height:525px; width:800px;\"></div>            <script type=\"text/javascript\">                                    window.PLOTLYENV=window.PLOTLYENV || {};                                    if (document.getElementById(\"bad3f047-f76d-43e0-9e01-6c0e6e398c78\")) {                    Plotly.newPlot(                        \"bad3f047-f76d-43e0-9e01-6c0e6e398c78\",                        [{\"alignmentgroup\":\"True\",\"bingroup\":\"x\",\"hovertemplate\":\"error=%{x}<br>count=%{y}<extra></extra>\",\"legendgroup\":\"\",\"marker\":{\"color\":\"#636efa\",\"pattern\":{\"shape\":\"\"}},\"name\":\"\",\"nbinsx\":50,\"offsetgroup\":\"\",\"orientation\":\"v\",\"showlegend\":false,\"x\":[1.4202423038379237,-4.325124102422805,5.283138255343843,9.940376718809247,-2.9342366802750774,2.0808908780878426,-8.805199296794981,-16.801148533402497,3.4246041749889145,15.03453573178406,1.4518599899320748,21.714528156062016,-3.9220628229378605,16.901536486745016,10.425405131502785,0.4278019074216246,-2.509955174116854,-5.731768289220511,-3.1135167066617697,-13.934216469819816,5.294323137155871,-0.34275733033477707,18.019936818053793,5.296484298467988,-1.166015468069915,1.840354615635846,9.534713335896797,-4.412917068650117,2.243689511164675,4.800041530438833,-18.364722639417664,18.300937529567364,10.59810728015573,-2.4151832747974993,-5.63351792672151,-1.6701195418952182,5.288059796912478,10.161425069594102,9.045475836677994,-6.647802445798419,-4.590289940724446,18.70561054841086,6.296565459009699,-20.150357304860123,14.46303348662957,-4.465503346088909,11.562068493375165,5.415939660270482,-10.94758352430766,-8.10870411192549,-7.2381634582456655,14.87634854129574,8.746428619048203,-1.0727101988489522,-2.3559230646538936,-0.9239196583944533,-18.677095476574124,6.541604663972912,-5.281642029776847,-11.63307300033496,10.397270828764562,4.618321274101859,-7.372767215212477,-0.2197607531203687,-3.831648621136708,5.624679481374471,-31.29573560765182,9.011437417770082,21.790443844276,-14.632253656130843,-1.1195930129582052,7.372445079171186,14.969990384130213,4.625830892881453,-3.554844408932283,-2.145228614625964,-8.649103420484579,0.26344970272754153,14.232878660341086,2.565973663013949,-7.529500085786552,3.570815683257891,8.563191168489709,-6.09756044015694,-4.390468342913678,-8.322454933556628,9.927528480423689,5.371311939420778,-3.925701476400718,-2.7306757591312305,-9.22871234534108,-4.453867492506987,15.238984955810281,7.738400166775847,5.692360529208443,7.8033806777904715,1.5953294046978925,0.8740202340681691,12.895293764353752,-19.10342128998893,11.900186603388448,1.0439331927822195,9.669394381057842,12.269725574113963,-9.134847933028723,1.5009292893782629,0.02592581209852085,-7.923246405142862,8.971200819209187,4.0989935339778185,6.0557730989342815,-7.438845132434523,-9.928053266687925,-6.469472261140368,1.469108878665665,-4.422999511170204,-20.940851502611594,4.497294820656819,-0.23540723186744117,-23.98073131002957,21.778631211364043,-2.203110705009472,-0.10043722208727957,5.341102976393259,3.3103771946383063,-3.993995462455999,15.2807001410076,-1.2661307318786754,4.386553148727117,-4.035936555397299,11.533711647901058,-9.180170996198285,11.90382384371901,6.4124951078390495,-3.9261769012818917,12.277175368798993,-6.484468200038862,6.772961024945658,18.58374640159539,-17.802583140431892,17.125633073261213,0.0102491217589602,14.027415992436033,15.87739023363185,6.072992847422952,0.1749345600246528,-9.639016040944497,0.9898212185972852,-9.449543945327846,-5.2884472470475,15.680840678708535,-1.901946064164889,8.566832053599214,-0.7213631569360786,-2.416193018094944,-6.2856371592852724,-28.37146312833542,1.9594759246859184,1.4753450435035518,4.97392025408972,1.5593612815813742,6.353946536641729,-11.583010943484908,-2.9301612251839515,-12.260165644504298,-11.740651346486516,22.721373787191155,7.108080631801002,-0.9367133315510188,9.210680804433935,9.530314212405528,-21.197380448538524,-7.7841087945655545,-1.043911719375643,-6.290662956023326,16.828751630382115,-2.4831604199093533,4.535850309837031,-3.4742388448260044,-17.847905488095506,-7.287381964545091,-2.424260446035973,-3.790979831347073,-6.20499312881492,-1.450265345096497,12.022687252553638,3.2634357163088907,5.346461353919153,-6.154930199819347,0.7133924660865318,21.10098062351865,-9.835057590671724,-10.947834369635771,1.2573670077700854,6.721640009135257,-13.321875686829543,-25.942198184444734,17.340302838329976,-8.759278725797884,-4.367344024676413,3.7681282716327047,-10.448587722939806,7.037100080481892,20.084923352733526,-9.02243867718677,17.86402956523289,-0.10401423289908962,1.9998449354065855,1.5370539362775304,4.515826562735185,0.9065744341989443,1.5945198303169548,-2.395358853402982,9.270181910377005,3.946497083647543,-1.9002488521079357,-3.10422078713529,13.099936222560359,-1.0341045029806537,8.65051924792062,-2.543101703815651,-9.206685788228171,23.788696181663255,-5.150063581673692,0.0006635275549058406,8.370795083663381,4.039916321042739,-8.302636942037836,1.7676456811275472,-2.824536925161894,7.41659429851174,19.844465358965678,2.3066463184040344,-4.246329741438373,10.192769974846797,-17.87214076023585,12.909478729410033,-8.963415200901366,7.853423411390679,-15.05983975811634,-7.571340245511863,-3.141004068676466,-2.968079604191587,7.459927655323682,13.207158499404883,-1.9151615321737268,-3.0825841752065912,0.5031742454282693,-16.858737477002904,9.190865024447618,21.521990995090718,13.449773031196855,0.8144730076592452,-15.37042164765218,-13.509746736799244,7.001789042616423,12.348078840085819,-9.762227763855876,-12.967532879986727,0.06790291583178032,-1.5990510203047563,-10.036273160114419,8.086629372326172,-9.886054820899332,10.385028700242458,2.8271008984176262,-15.001392374673799,-5.273497849851012,-1.2779066545738687,-0.9340823213554188,7.996964825511981,-2.311212734616987,-4.268608172198526,3.4507970991003134,-7.76269724613293,-9.14501576529102,-0.8669930998918289,-2.4984496919708192,-1.0713254225166082,0.5610413496209361,3.520161427085654,8.427399102831771,11.854565165363937,-10.843579552776816,3.0492198126707564,-3.620445171421977,7.789745247323012,0.6820719633302019,-2.889372250557855,-17.737479621521786,4.374720036991448,-9.826585339484907,-12.352302365055067,17.613226052858465,-8.076496551961583,12.0303397309264,-10.0839971656074,-1.2133626007095586,1.0580033730673222,2.621218780986368,4.332037780223857,12.219260188409066,7.320655399690253,0.6286970372307223,-4.713563520854635,-12.494538064568005,-4.987681914888157,4.188297568778495,0.9713452655906707,-0.32566056602183835,6.2149282043988165,-7.143148977324813,3.1645637962342477,-11.375478526522983,23.226388201257336,12.381531104000537,-12.064310583186284,-6.071282416234723,11.94515069688535,-5.927963078053793,6.757868971760388,-9.748533008186257,-3.552202833508332,-1.3671023404613294,11.958233458468086,8.453371886836152,-4.584377533380604,-2.757892374314011,-14.034616901593623,0.7168217189643258,-11.340550757146303,0.9646111039479308,9.313989792440012,12.550003805154688,10.090231174373294,-17.60245882407584,-21.056395858365335,16.602269010404186,4.09593479307793,-17.39042937471497,-2.3005532103309037,11.47066746872153,0.03094289713529008,-14.552270013872459,2.6039421520811743,8.42710236403856,5.892612771246888,13.598242946762227,-20.875745081902778,-6.662659590161411,12.17448690689919,-14.5411982650446,-8.92694984592778,-5.451959439660641,4.856196002876928,-1.0825330082567177,1.0274330609769322,-11.295932590209802,0.657802215657199,0.3475945152566169,-5.318743865495563,-1.6769006421395005,8.486433466055075,6.532489888067246,13.520371525592282,-5.643821011334865,17.4941216644349,2.4947856518077174,13.433102045681274,7.0241400965444285,-0.9268443110578914,-7.967681863430769,2.297852171103216,-5.817046784687264,1.2323982130165092,15.03139862468224,12.240218643945866,-3.790651859446868,27.12961217805713,-10.96879336617964,-10.664785988059222,2.5165228445821413,13.15733248424337,-15.302556947860296,13.450721320419632,7.231351496720251,-6.006613459245273,-8.923823684478819,-1.3211079671379764,-4.290680252427279,14.05643606392475,10.643382581240942,22.54143326976414,10.088212859743408,-5.171486513728652,-8.70476591117415,1.8995912362487815,-6.073032391910218,-17.04097466487096,-5.652275844264352,-10.534219074012213,-12.908914897892572,4.106506589835988,-20.09052005659268,16.61250308357765,10.635275571568684,-3.6987585736965087,4.774840095232506,-26.63555344202696,-7.309185278898596,-2.7913400828308284,-7.686956489240245,-1.3338105962166935,-8.077859684102478,-15.699914364094184,0.6372124189996384,-7.759214208172196,-0.30900825959875533,-6.105616086231251,4.547609326743071,-7.803705111629398,0.9415106646305986,-14.884237670451753,-13.055144698980925,17.266589321681636,6.312126111748881,-0.09102596658802042,-11.892972541620296,-16.602048702338493,11.692313256302242,8.240115431617554,-20.689962580389633,-13.220461662551443,3.7671221617231936,-10.845888732129197,18.367158110851307,-13.366494569095252,4.107160442107713,-2.1211942714211744,8.41957287229296,0.3287981651624534,-8.484892127597277,7.060923107252293,11.286475563267572,6.666666664631563,4.368505702221896,4.5724524344148705,7.849783535822127,-8.675394010655083,2.160455461424661,10.843761563777221,4.930563624929036,10.386378374281406,17.091016329641917,15.936037428628879,7.730608303862859,16.657763874933437,5.937487531042976,-12.090436017562268,-1.4334942873571777,4.466968845264276,-3.8625313435802724,5.548293089081156,-2.4477074702652715,14.768387741690063,-13.176693402276314,4.255505821460915,-5.267485110724806,-11.42136711247521,-11.9286951214698,-7.581809022916559,6.549781626069375,7.172577745688486,8.90701958153548,11.819306410464222,9.507349466312817,21.030390632945625,6.599209194410619,-11.746272894301455,-7.463361647612487,-7.744757479698876,0.4106049618299039,2.605029727517021,6.198587343283592,-1.623512904374678,6.3090466940324745,-6.883140159923968,-3.0324375308227474,-0.6691116598171902,-10.10668410361977,-4.883542323442015,-10.877812888037568,-0.04320647672007283,-9.009824594161373,4.1910321906707395,-14.969621801786573,0.1849922091838252,-13.487706353600188,9.568391555046446,-6.093335298182652,6.679542529566376,-1.091833816687739,-8.106190844150973,6.04602799731353,18.362169270431295,7.102429640515254,-10.427616416216424,-1.3027959202954804,-4.419436517693697,13.764721578411354,8.77049030102205,-8.874745051620664,-1.874445633472476,18.36808646789622,-1.268026993558692,-5.48308639031049,-20.308331539190874,10.558760576023559,4.8949293411212835,-4.786648567626031,-2.6547115322378545,4.740392180487206,-6.722292193823989,6.922795730971515,5.327517613568261,-4.593920444600897,11.22063091635276,-11.492748404310248,-3.294366982293269,-3.9467420589484163,9.33377713499118,3.6942611811125587,-2.2699398965343818,12.837582657547273,2.2416372471195984,-13.332957285561335,7.046779760648249,0.6816956286911164,6.446388795551286,17.387283092832575,-19.24854196416706,-11.715799442780522,-7.210655183486921,-6.453167264105829,-5.3461665150343975,-15.07336476663663,9.803215880956941,3.034578578936234,12.554970955414731,-14.147117331413426,-5.332950158651826,-0.8242534883516441,5.525275796318567,4.972370613668744,4.074335520933744,-0.7651599182218405,1.685401943193554,-3.2075247787108196,3.854991214978483,13.216139545910323,4.897213076789853,4.128361629078029,-9.651908767829823,-3.2523339460705074,0.5558173831405071,-1.712353473591321,13.427798570147317,5.327182850024968,6.119926772381959,13.403801060699081,4.21856669013971,-11.229260763687464,17.834519293438404,-13.247019447064147,-14.011877292300568,-9.839465754734192,8.215866653717399,3.9099295797441584,-21.680363309597055,-4.763674644010564,-2.6103295802776074,11.025975369356928,9.029913126480892,2.562384415090534,8.585227953723376,-23.539599295699944,4.636142149240783,0.4421638569280475,2.177298404102743,-6.914612477421315,-14.229488974404276,3.9945501206864122,-0.40052228814948876,-16.6267497827143,14.788943218887937,-2.1073118352365583,2.4135693114451016,3.5784991568265525,19.164610323935918,-3.3789937881996934,0.7406032169188279,-0.5355823571967022,-16.93201233173525,-5.951616611991582,9.578263193201849,-16.38064419953639,27.161367523776605,-8.01363084744662,2.54027800099945,-8.143042335656787,17.472690959860415,-4.9581989046361485,9.668346330474321,-6.54286613373371,-0.4353686996900876,5.111162629187973,-11.359909829480756,-12.722124194396855,0.6329206632212276,-6.951205979530201,-1.1772045963819693,5.45568523984285,-2.8249349698084387,-1.0224365268100257,-10.09351462012377,-3.242161363164989,2.4538879740459123,0.21558559761231777,-6.036542509066095,11.049462516567047,4.0790126860919145,-4.907103593228626,10.972735904107594,4.777068060087146,2.6910293578187634,-14.535624030478147,-10.984433576125241,2.142941355172681,-7.557240823847891,-2.534560213838134,-7.840660759269213,5.772852558714646,12.988289730790967,-11.334092382187237,-4.878695962373072,3.725646416741924,-14.866978451250674,-24.363227546825485,10.131656195333022,0.3970910459157011,-11.454573132505843,-0.25323630811988096,-10.136868778960391,9.857963844889952,8.484288494467975,-3.5613821621268755,-8.813913034885076,9.841156566224143,4.465642598319278,16.889202071431754,1.5450494508944388,4.976072489675374,2.5039933957586555,-1.8437300071850444,-1.3105026047553991,-2.1784196017832187,15.942946594199213,15.586455885057347,-7.855390216101355,-6.239334111866739,-9.889980159896794,12.008376414903267,6.100310969853041,19.85919825050931,-13.060261369338079,-5.594126806179261,-2.9970442799469907,-1.4632814954015174,-3.016806304783742,1.8531687640991095,20.678837044529672,-3.257558622429187,-11.691816260821582,-6.392355972321667,-1.2802350092673294,-2.049138897766028,-9.66574361603655,-7.514831704387362,4.647062970840821,1.1778593480473916,10.09545638917021,0.7000304441418734,10.946467547132926,5.061833609781843,-12.045965284462625,8.643584956926048,-15.654131845956968,7.056032640180888,17.872172653508883,-0.4077174659353773,5.27125139140216,-8.585521220751488,-5.073779701085073,21.148821177941507,7.700029401322311,-5.369593124471109,1.2509334544202915,3.6772640027816266,2.6757092273220877,5.541683709832682,-10.844296894415692,-8.415195661406614,-12.825599549447645,-9.216467296191126,0.8351880289410616,-7.933948106291268,17.075235893228097,0.10925956064350828,-14.773731138535851,-11.525904921051207,4.43684642437141,-12.803502368574485,-13.126766719078859,0.5256997399216061,14.269903351581036,-0.6116106048862093,-7.927128820173891,5.10333517750918,7.836662211496645,-18.94090787855413,4.039223914357422,-12.453955289672706,12.20807368737411,-4.945575018139451,-26.368014242554025,12.59458528929811,-13.255126575680862,-0.13844157435876525,20.236903492856044,-13.915664129778193,-9.243159461141545,12.467141323285219,6.903640105050684,-9.303701278368408,2.602970357501988,-8.768204694085,-5.046737771845855,-14.175295632705811,-0.8878968349994807,4.168180996302766,1.465717993959018,14.4970158463492,11.768037664033187,-1.6204198815045032,23.399744782978843,-12.002142284347556,-5.370918802283796,10.034650532801919,-13.448010277757888,-4.377871288675706,5.9575213367282345,-6.708803673624871,23.049301712129065,-3.2653448479778575,5.5903230252942535,-16.894580494143497,-13.766009997821854,7.347197494769887,-1.7668076004530349,6.880865526193261,5.893512867531172,-1.7640747730013402,-2.525846432112445,1.862939377904432,25.960418725870014,3.0497111370936167,2.6322545326047617,-8.636299301266632,-8.62619779107807,-2.0502379852841983,-5.261196291155059,-6.807474896331087,-5.934870848224762,-6.3921690993114595,-6.285349678647165,-2.252957979180053,8.339046224562807,-16.029369505882343,6.038915484048005,1.1992762248362538,-1.32487397044612,15.842470500531803,-7.4295519215121715,6.754284580474078,2.8529157387324346,13.847732586237285,-2.9599111858563987,-16.16370355353854,9.408387536411936,0.1728388215060903,-2.696363748370814,-1.0695767938359495,-10.639874239810041,-5.0725969375770035,-5.336089749698985,-15.611883510508363,1.5604725629363827,6.5550563333301,8.590785604371504,9.300242916454025,9.898484148232242,-5.322930382225479,11.095872110293485,3.950600194962604,2.6590198359206454,11.802631179460846,-13.943245566709777,-12.262122602431376,6.146845964075929,3.3741320090246774,-1.4379588626063224,4.363743605276426,-11.367623604826264,-28.230156878045136,13.083342863454519,-6.488029001922797,6.636780872617273,-10.315327556960455,-18.139248207163277,12.508926796198267,-3.315423096223725,-21.50001639247636,-12.052997093590008,-2.042668642259656,-2.118505078532408,18.85932473575607,-9.750648969878242,-8.125796162032117,20.967364454527797,10.378878837439544,-1.6250866850118229,-4.1276925570527965,-2.0200562757561897,-10.349035396696138,2.8511242114545468,14.722803243450826,-19.28105843517747,-0.5616980484721239,-20.28685957105067,-5.428670200512869,-6.273322313297186,-5.113564207792066,16.91030946061744,4.818016548233217,-4.865842539127371,-4.830405077024977,-9.800056711267572,1.0783187722497445,0.30871795735192364,-14.148207799365025,3.319272960715921,-0.4327219071703112,9.801358144128955,-3.0893588729957173,-5.898186917961411,4.883749990490998,-18.89228964320435,14.66248106040426,-6.8805744471826955,8.179590721597563,5.91989193246215,0.5767185186702619,3.2930047116138326,12.071528343947818,-4.8385552177943225,-5.698958926895955,2.4670210825856884,-9.782769567258327,-11.383581228735565,-7.238928817198797,8.047888241884493,-6.63311999427745,2.411671520629696,6.590701353340833,-5.242709243720768,3.922174774983148,3.041907163458248,7.192336083436842,-7.283456114277811,-0.39842380052411386,-14.156072220951998,11.08231129107908,4.524052474641692,2.0574255214780237,-13.585497172047383,-0.44962149462959644,14.978408322542698,-8.445210669296785,-9.767577035406887,-15.915151131456682,8.605917676129039,-3.9396945709903406,13.982665953851694,7.8053335502741135,-2.7737412448898624,1.604464748211896,3.670879230036334,4.643946570661811,6.554589761150083,25.316742945875475,14.661946645691515,-4.650023300328144,-5.007121893376151,-2.8660548089231668,16.205167769593345,-4.520797223123395,-6.315123599432155,-9.040050097356158,2.853620925497353,18.134166103219073,-16.250201810167923,2.578712241011168,-17.655375514221717,14.653360764829813,-1.0714652201642423,15.227623651622437,9.460392055849141,-5.986234021856475,-6.042396455962617,1.056172851071807,3.2704036964658343,-6.033598669157982,-10.492224374855965,-10.824659980720014,-11.508746724316154,7.701303313895195,-3.32697477309906,1.6772593356632797,5.800481352305667,8.275589737544223,-5.2089749009168145,6.686414230565916,8.818199393295586,5.49327302007201,-1.9277791449522113,-15.567118333052548,-3.0653814728212865,1.2333123628603033,-13.201792806931834,0.7594015292086738,-7.109386961960226,-3.210512329774076,18.989356540648885,21.789971720939988,-6.7518282733755655,5.617280064989529,-3.454681122178144,-21.891754689614643,-18.45171675527962,-12.571219139338012,6.209460935830123,-1.7249762641611852,-1.6903024582894943,9.354247089624508,-11.243362962468666,1.814546446252976,14.816582556873811,7.337506284691969,-8.925667557496254,3.47109029490813,-5.216076486533524,-6.88657127563404,-0.33774444927252034,-11.50881411742023,26.583822040763167,0.11397117870700413,-4.533443851127046,9.665718385417371,-17.52138085653465,-6.660729651892652,-3.08697376324146,4.423924012659427,8.76899079519508,3.3896644679352477,-5.537763561327168,-13.256910977533579,0.21608805891223426,-1.6507994522380045,6.991777445383619,2.16297583371896,-21.305309294845486,2.0184036257734306,-1.7133760799879099,-7.998589801012145,-14.046919803118342,-4.0742402550789905,-13.689095515832406,-0.5347438951384618,9.960170230299553,-0.3726890624753736],\"xaxis\":\"x\",\"yaxis\":\"y\",\"type\":\"histogram\"}],                        {\"template\":{\"data\":{\"histogram2dcontour\":[{\"type\":\"histogram2dcontour\",\"colorbar\":{\"outlinewidth\":0,\"ticks\":\"\"},\"colorscale\":[[0.0,\"#0d0887\"],[0.1111111111111111,\"#46039f\"],[0.2222222222222222,\"#7201a8\"],[0.3333333333333333,\"#9c179e\"],[0.4444444444444444,\"#bd3786\"],[0.5555555555555556,\"#d8576b\"],[0.6666666666666666,\"#ed7953\"],[0.7777777777777778,\"#fb9f3a\"],[0.8888888888888888,\"#fdca26\"],[1.0,\"#f0f921\"]]}],\"choropleth\":[{\"type\":\"choropleth\",\"colorbar\":{\"outlinewidth\":0,\"ticks\":\"\"}}],\"histogram2d\":[{\"type\":\"histogram2d\",\"colorbar\":{\"outlinewidth\":0,\"ticks\":\"\"},\"colorscale\":[[0.0,\"#0d0887\"],[0.1111111111111111,\"#46039f\"],[0.2222222222222222,\"#7201a8\"],[0.3333333333333333,\"#9c179e\"],[0.4444444444444444,\"#bd3786\"],[0.5555555555555556,\"#d8576b\"],[0.6666666666666666,\"#ed7953\"],[0.7777777777777778,\"#fb9f3a\"],[0.8888888888888888,\"#fdca26\"],[1.0,\"#f0f921\"]]}],\"heatmap\":[{\"type\":\"heatmap\",\"colorbar\":{\"outlinewidth\":0,\"ticks\":\"\"},\"colorscale\":[[0.0,\"#0d0887\"],[0.1111111111111111,\"#46039f\"],[0.2222222222222222,\"#7201a8\"],[0.3333333333333333,\"#9c179e\"],[0.4444444444444444,\"#bd3786\"],[0.5555555555555556,\"#d8576b\"],[0.6666666666666666,\"#ed7953\"],[0.7777777777777778,\"#fb9f3a\"],[0.8888888888888888,\"#fdca26\"],[1.0,\"#f0f921\"]]}],\"heatmapgl\":[{\"type\":\"heatmapgl\",\"colorbar\":{\"outlinewidth\":0,\"ticks\":\"\"},\"colorscale\":[[0.0,\"#0d0887\"],[0.1111111111111111,\"#46039f\"],[0.2222222222222222,\"#7201a8\"],[0.3333333333333333,\"#9c179e\"],[0.4444444444444444,\"#bd3786\"],[0.5555555555555556,\"#d8576b\"],[0.6666666666666666,\"#ed7953\"],[0.7777777777777778,\"#fb9f3a\"],[0.8888888888888888,\"#fdca26\"],[1.0,\"#f0f921\"]]}],\"contourcarpet\":[{\"type\":\"contourcarpet\",\"colorbar\":{\"outlinewidth\":0,\"ticks\":\"\"}}],\"contour\":[{\"type\":\"contour\",\"colorbar\":{\"outlinewidth\":0,\"ticks\":\"\"},\"colorscale\":[[0.0,\"#0d0887\"],[0.1111111111111111,\"#46039f\"],[0.2222222222222222,\"#7201a8\"],[0.3333333333333333,\"#9c179e\"],[0.4444444444444444,\"#bd3786\"],[0.5555555555555556,\"#d8576b\"],[0.6666666666666666,\"#ed7953\"],[0.7777777777777778,\"#fb9f3a\"],[0.8888888888888888,\"#fdca26\"],[1.0,\"#f0f921\"]]}],\"surface\":[{\"type\":\"surface\",\"colorbar\":{\"outlinewidth\":0,\"ticks\":\"\"},\"colorscale\":[[0.0,\"#0d0887\"],[0.1111111111111111,\"#46039f\"],[0.2222222222222222,\"#7201a8\"],[0.3333333333333333,\"#9c179e\"],[0.4444444444444444,\"#bd3786\"],[0.5555555555555556,\"#d8576b\"],[0.6666666666666666,\"#ed7953\"],[0.7777777777777778,\"#fb9f3a\"],[0.8888888888888888,\"#fdca26\"],[1.0,\"#f0f921\"]]}],\"mesh3d\":[{\"type\":\"mesh3d\",\"colorbar\":{\"outlinewidth\":0,\"ticks\":\"\"}}],\"scatter\":[{\"fillpattern\":{\"fillmode\":\"overlay\",\"size\":10,\"solidity\":0.2},\"type\":\"scatter\"}],\"parcoords\":[{\"type\":\"parcoords\",\"line\":{\"colorbar\":{\"outlinewidth\":0,\"ticks\":\"\"}}}],\"scatterpolargl\":[{\"type\":\"scatterpolargl\",\"marker\":{\"colorbar\":{\"outlinewidth\":0,\"ticks\":\"\"}}}],\"bar\":[{\"error_x\":{\"color\":\"#2a3f5f\"},\"error_y\":{\"color\":\"#2a3f5f\"},\"marker\":{\"line\":{\"color\":\"#E5ECF6\",\"width\":0.5},\"pattern\":{\"fillmode\":\"overlay\",\"size\":10,\"solidity\":0.2}},\"type\":\"bar\"}],\"scattergeo\":[{\"type\":\"scattergeo\",\"marker\":{\"colorbar\":{\"outlinewidth\":0,\"ticks\":\"\"}}}],\"scatterpolar\":[{\"type\":\"scatterpolar\",\"marker\":{\"colorbar\":{\"outlinewidth\":0,\"ticks\":\"\"}}}],\"histogram\":[{\"marker\":{\"pattern\":{\"fillmode\":\"overlay\",\"size\":10,\"solidity\":0.2}},\"type\":\"histogram\"}],\"scattergl\":[{\"type\":\"scattergl\",\"marker\":{\"colorbar\":{\"outlinewidth\":0,\"ticks\":\"\"}}}],\"scatter3d\":[{\"type\":\"scatter3d\",\"line\":{\"colorbar\":{\"outlinewidth\":0,\"ticks\":\"\"}},\"marker\":{\"colorbar\":{\"outlinewidth\":0,\"ticks\":\"\"}}}],\"scattermapbox\":[{\"type\":\"scattermapbox\",\"marker\":{\"colorbar\":{\"outlinewidth\":0,\"ticks\":\"\"}}}],\"scatterternary\":[{\"type\":\"scatterternary\",\"marker\":{\"colorbar\":{\"outlinewidth\":0,\"ticks\":\"\"}}}],\"scattercarpet\":[{\"type\":\"scattercarpet\",\"marker\":{\"colorbar\":{\"outlinewidth\":0,\"ticks\":\"\"}}}],\"carpet\":[{\"aaxis\":{\"endlinecolor\":\"#2a3f5f\",\"gridcolor\":\"white\",\"linecolor\":\"white\",\"minorgridcolor\":\"white\",\"startlinecolor\":\"#2a3f5f\"},\"baxis\":{\"endlinecolor\":\"#2a3f5f\",\"gridcolor\":\"white\",\"linecolor\":\"white\",\"minorgridcolor\":\"white\",\"startlinecolor\":\"#2a3f5f\"},\"type\":\"carpet\"}],\"table\":[{\"cells\":{\"fill\":{\"color\":\"#EBF0F8\"},\"line\":{\"color\":\"white\"}},\"header\":{\"fill\":{\"color\":\"#C8D4E3\"},\"line\":{\"color\":\"white\"}},\"type\":\"table\"}],\"barpolar\":[{\"marker\":{\"line\":{\"color\":\"#E5ECF6\",\"width\":0.5},\"pattern\":{\"fillmode\":\"overlay\",\"size\":10,\"solidity\":0.2}},\"type\":\"barpolar\"}],\"pie\":[{\"automargin\":true,\"type\":\"pie\"}]},\"layout\":{\"autotypenumbers\":\"strict\",\"colorway\":[\"#636efa\",\"#EF553B\",\"#00cc96\",\"#ab63fa\",\"#FFA15A\",\"#19d3f3\",\"#FF6692\",\"#B6E880\",\"#FF97FF\",\"#FECB52\"],\"font\":{\"color\":\"#2a3f5f\"},\"hovermode\":\"closest\",\"hoverlabel\":{\"align\":\"left\"},\"paper_bgcolor\":\"white\",\"plot_bgcolor\":\"#E5ECF6\",\"polar\":{\"bgcolor\":\"#E5ECF6\",\"angularaxis\":{\"gridcolor\":\"white\",\"linecolor\":\"white\",\"ticks\":\"\"},\"radialaxis\":{\"gridcolor\":\"white\",\"linecolor\":\"white\",\"ticks\":\"\"}},\"ternary\":{\"bgcolor\":\"#E5ECF6\",\"aaxis\":{\"gridcolor\":\"white\",\"linecolor\":\"white\",\"ticks\":\"\"},\"baxis\":{\"gridcolor\":\"white\",\"linecolor\":\"white\",\"ticks\":\"\"},\"caxis\":{\"gridcolor\":\"white\",\"linecolor\":\"white\",\"ticks\":\"\"}},\"coloraxis\":{\"colorbar\":{\"outlinewidth\":0,\"ticks\":\"\"}},\"colorscale\":{\"sequential\":[[0.0,\"#0d0887\"],[0.1111111111111111,\"#46039f\"],[0.2222222222222222,\"#7201a8\"],[0.3333333333333333,\"#9c179e\"],[0.4444444444444444,\"#bd3786\"],[0.5555555555555556,\"#d8576b\"],[0.6666666666666666,\"#ed7953\"],[0.7777777777777778,\"#fb9f3a\"],[0.8888888888888888,\"#fdca26\"],[1.0,\"#f0f921\"]],\"sequentialminus\":[[0.0,\"#0d0887\"],[0.1111111111111111,\"#46039f\"],[0.2222222222222222,\"#7201a8\"],[0.3333333333333333,\"#9c179e\"],[0.4444444444444444,\"#bd3786\"],[0.5555555555555556,\"#d8576b\"],[0.6666666666666666,\"#ed7953\"],[0.7777777777777778,\"#fb9f3a\"],[0.8888888888888888,\"#fdca26\"],[1.0,\"#f0f921\"]],\"diverging\":[[0,\"#8e0152\"],[0.1,\"#c51b7d\"],[0.2,\"#de77ae\"],[0.3,\"#f1b6da\"],[0.4,\"#fde0ef\"],[0.5,\"#f7f7f7\"],[0.6,\"#e6f5d0\"],[0.7,\"#b8e186\"],[0.8,\"#7fbc41\"],[0.9,\"#4d9221\"],[1,\"#276419\"]]},\"xaxis\":{\"gridcolor\":\"white\",\"linecolor\":\"white\",\"ticks\":\"\",\"title\":{\"standoff\":15},\"zerolinecolor\":\"white\",\"automargin\":true,\"zerolinewidth\":2},\"yaxis\":{\"gridcolor\":\"white\",\"linecolor\":\"white\",\"ticks\":\"\",\"title\":{\"standoff\":15},\"zerolinecolor\":\"white\",\"automargin\":true,\"zerolinewidth\":2},\"scene\":{\"xaxis\":{\"backgroundcolor\":\"#E5ECF6\",\"gridcolor\":\"white\",\"linecolor\":\"white\",\"showbackground\":true,\"ticks\":\"\",\"zerolinecolor\":\"white\",\"gridwidth\":2},\"yaxis\":{\"backgroundcolor\":\"#E5ECF6\",\"gridcolor\":\"white\",\"linecolor\":\"white\",\"showbackground\":true,\"ticks\":\"\",\"zerolinecolor\":\"white\",\"gridwidth\":2},\"zaxis\":{\"backgroundcolor\":\"#E5ECF6\",\"gridcolor\":\"white\",\"linecolor\":\"white\",\"showbackground\":true,\"ticks\":\"\",\"zerolinecolor\":\"white\",\"gridwidth\":2}},\"shapedefaults\":{\"line\":{\"color\":\"#2a3f5f\"}},\"annotationdefaults\":{\"arrowcolor\":\"#2a3f5f\",\"arrowhead\":0,\"arrowwidth\":1},\"geo\":{\"bgcolor\":\"white\",\"landcolor\":\"#E5ECF6\",\"subunitcolor\":\"white\",\"showland\":true,\"showlakes\":true,\"lakecolor\":\"white\"},\"title\":{\"x\":0.05},\"mapbox\":{\"style\":\"light\"}}},\"xaxis\":{\"anchor\":\"y\",\"domain\":[0.0,1.0],\"title\":{\"text\":\"error\"}},\"yaxis\":{\"anchor\":\"x\",\"domain\":[0.0,1.0],\"title\":{\"text\":\"count\"}},\"legend\":{\"tracegroupgap\":0},\"margin\":{\"t\":60},\"barmode\":\"relative\",\"width\":800},                        {\"responsive\": true}                    ).then(function(){\n",
              "                            \n",
              "var gd = document.getElementById('bad3f047-f76d-43e0-9e01-6c0e6e398c78');\n",
              "var x = new MutationObserver(function (mutations, observer) {{\n",
              "        var display = window.getComputedStyle(gd).display;\n",
              "        if (!display || display === 'none') {{\n",
              "            console.log([gd, 'removed!']);\n",
              "            Plotly.purge(gd);\n",
              "            observer.disconnect();\n",
              "        }}\n",
              "}});\n",
              "\n",
              "// Listen for the removal of the full notebook cells\n",
              "var notebookContainer = gd.closest('#notebook-container');\n",
              "if (notebookContainer) {{\n",
              "    x.observe(notebookContainer, {childList: true});\n",
              "}}\n",
              "\n",
              "// Listen for the clearing of the current output cell\n",
              "var outputEl = gd.closest('.output');\n",
              "if (outputEl) {{\n",
              "    x.observe(outputEl, {childList: true});\n",
              "}}\n",
              "\n",
              "                        })                };                            </script>        </div>\n",
              "</body>\n",
              "</html>"
            ]
          },
          "metadata": {}
        }
      ]
    },
    {
      "cell_type": "markdown",
      "source": [
        "**Średni błąd bezwzględny**"
      ],
      "metadata": {
        "id": "YYAQb904wX4h"
      }
    },
    {
      "cell_type": "code",
      "source": [
        "def mean_absolute_error(y_true, y_pred):\n",
        "    return abs(y_true - y_pred).sum() / len(y_true)\n",
        "\n",
        "mean_absolute_error(y_true, y_pred)"
      ],
      "metadata": {
        "colab": {
          "base_uri": "https://localhost:8080/"
        },
        "id": "CrIsIfUfvsnJ",
        "outputId": "e4cd8706-f166-4f18-8995-106c46faddfe"
      },
      "execution_count": 8,
      "outputs": [
        {
          "output_type": "execute_result",
          "data": {
            "text/plain": [
              "7.940470923891839"
            ]
          },
          "metadata": {},
          "execution_count": 8
        }
      ]
    },
    {
      "cell_type": "code",
      "source": [
        "from sklearn.metrics import mean_absolute_error\n",
        "mean_absolute_error(y_true, y_pred)"
      ],
      "metadata": {
        "colab": {
          "base_uri": "https://localhost:8080/"
        },
        "id": "Eo2MpeNJwcbt",
        "outputId": "38efc227-a74e-4c27-883f-ef9b15c52394"
      },
      "execution_count": 9,
      "outputs": [
        {
          "output_type": "execute_result",
          "data": {
            "text/plain": [
              "7.940470923891839"
            ]
          },
          "metadata": {},
          "execution_count": 9
        }
      ]
    },
    {
      "cell_type": "markdown",
      "source": [
        "**Błąd średniokwadratowy**"
      ],
      "metadata": {
        "id": "mq3imDDnw5T1"
      }
    },
    {
      "cell_type": "code",
      "source": [
        "def mean_squared_error(y_true, y_pred):\n",
        "    return ((y_true - y_pred) ** 2).sum() / len(y_true)\n",
        "\n",
        "mean_squared_error(y_true, y_pred)"
      ],
      "metadata": {
        "colab": {
          "base_uri": "https://localhost:8080/"
        },
        "id": "FtzTnhn3wr8y",
        "outputId": "c8f8607e-22e5-49bb-9774-3e124943ec41"
      },
      "execution_count": 10,
      "outputs": [
        {
          "output_type": "execute_result",
          "data": {
            "text/plain": [
              "97.61510788206019"
            ]
          },
          "metadata": {},
          "execution_count": 10
        }
      ]
    },
    {
      "cell_type": "code",
      "source": [
        "from sklearn.metrics import mean_squared_error\n",
        "\n",
        "mean_squared_error(y_true, y_pred)"
      ],
      "metadata": {
        "colab": {
          "base_uri": "https://localhost:8080/"
        },
        "id": "zy3-7z81w8Qp",
        "outputId": "6097c4f3-1af1-4896-c2e1-c5a2368e8dcf"
      },
      "execution_count": 11,
      "outputs": [
        {
          "output_type": "execute_result",
          "data": {
            "text/plain": [
              "97.61510788206019"
            ]
          },
          "metadata": {},
          "execution_count": 11
        }
      ]
    },
    {
      "cell_type": "markdown",
      "source": [
        "**Pierwiastek błędu średniokwadratowego**"
      ],
      "metadata": {
        "id": "BMD1Gh0XxFqw"
      }
    },
    {
      "cell_type": "code",
      "source": [
        "def root_mean_squared_error(y_true, y_pred):\n",
        "    return np.sqrt(((y_true - y_pred) ** 2).sum() / len(y_true))\n",
        "\n",
        "root_mean_squared_error(y_true, y_pred)"
      ],
      "metadata": {
        "colab": {
          "base_uri": "https://localhost:8080/"
        },
        "id": "n9aquGGzxDQb",
        "outputId": "167657e4-b741-4d6d-c8b4-9e1dbb3ca0fb"
      },
      "execution_count": 12,
      "outputs": [
        {
          "output_type": "execute_result",
          "data": {
            "text/plain": [
              "9.880035823925953"
            ]
          },
          "metadata": {},
          "execution_count": 12
        }
      ]
    },
    {
      "cell_type": "code",
      "source": [
        "np.sqrt(mean_squared_error(y_true, y_pred))"
      ],
      "metadata": {
        "colab": {
          "base_uri": "https://localhost:8080/"
        },
        "id": "30rSBua6xN63",
        "outputId": "f90c464b-5989-4050-c260-02f523c352e3"
      },
      "execution_count": 13,
      "outputs": [
        {
          "output_type": "execute_result",
          "data": {
            "text/plain": [
              "9.880035823925953"
            ]
          },
          "metadata": {},
          "execution_count": 13
        }
      ]
    },
    {
      "cell_type": "markdown",
      "source": [
        "**Błąd maksymalny**"
      ],
      "metadata": {
        "id": "2uC9xm_QxXmP"
      }
    },
    {
      "cell_type": "code",
      "source": [
        "def max_error(y_true, y_pred):\n",
        "    return abs(y_true - y_pred).max()"
      ],
      "metadata": {
        "id": "PnFKz4_nxV51"
      },
      "execution_count": 14,
      "outputs": []
    },
    {
      "cell_type": "code",
      "source": [
        "max_error(y_true, y_pred)"
      ],
      "metadata": {
        "colab": {
          "base_uri": "https://localhost:8080/"
        },
        "id": "cJpyJahGxf-h",
        "outputId": "8e6be022-d910-439c-9a32-5e9bec1f94c7"
      },
      "execution_count": 15,
      "outputs": [
        {
          "output_type": "execute_result",
          "data": {
            "text/plain": [
              "31.29573560765182"
            ]
          },
          "metadata": {},
          "execution_count": 15
        }
      ]
    },
    {
      "cell_type": "code",
      "source": [
        "from sklearn.metrics import max_error\n",
        "\n",
        "max_error(y_true, y_pred)"
      ],
      "metadata": {
        "colab": {
          "base_uri": "https://localhost:8080/"
        },
        "id": "bxU0OJzRxlCT",
        "outputId": "04967de0-d2a6-401d-e453-7754b45b8d17"
      },
      "execution_count": 16,
      "outputs": [
        {
          "output_type": "execute_result",
          "data": {
            "text/plain": [
              "31.29573560765182"
            ]
          },
          "metadata": {},
          "execution_count": 16
        }
      ]
    },
    {
      "cell_type": "markdown",
      "source": [
        "**Współczynnik determinacji**"
      ],
      "metadata": {
        "id": "Qk-_NqH-xqam"
      }
    },
    {
      "cell_type": "code",
      "source": [
        "from sklearn.metrics import r2_score\n",
        "\n",
        "r2_score(y_true, y_pred)"
      ],
      "metadata": {
        "colab": {
          "base_uri": "https://localhost:8080/"
        },
        "id": "_pPprMlVxnra",
        "outputId": "3adfa183-ad4e-4b7b-e313-5a0266110bb4"
      },
      "execution_count": 17,
      "outputs": [
        {
          "output_type": "execute_result",
          "data": {
            "text/plain": [
              "0.759879774436447"
            ]
          },
          "metadata": {},
          "execution_count": 17
        }
      ]
    },
    {
      "cell_type": "code",
      "source": [
        "def r2_score(y_true, y_pred):\n",
        "    numerator = ((y_true - y_pred) ** 2).sum()\n",
        "    denominator = ((y_true - y_true.mean()) ** 2).sum()\n",
        "    try:\n",
        "        r2 = 1 - numerator / denominator\n",
        "    except ZeroDivisionError:\n",
        "        print('Dzielenie przez zero')\n",
        "    return r2"
      ],
      "metadata": {
        "id": "RDjz4lKnx2pg"
      },
      "execution_count": 18,
      "outputs": []
    },
    {
      "cell_type": "code",
      "source": [
        "r2_score(y_true, y_pred)"
      ],
      "metadata": {
        "colab": {
          "base_uri": "https://localhost:8080/"
        },
        "id": "JoLOGATGx41y",
        "outputId": "b17e7d53-3631-4bae-f3c7-155c5632501c"
      },
      "execution_count": 19,
      "outputs": [
        {
          "output_type": "execute_result",
          "data": {
            "text/plain": [
              "0.759879774436447"
            ]
          },
          "metadata": {},
          "execution_count": 19
        }
      ]
    }
  ]
}